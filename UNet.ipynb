{
  "cells": [
    {
      "cell_type": "markdown",
      "metadata": {
        "id": "view-in-github",
        "colab_type": "text"
      },
      "source": [
        "<a href=\"https://colab.research.google.com/github/AlfiRam/Computer-Vision-Final-Project-Fire-Detection/blob/main/UNet.ipynb\" target=\"_parent\"><img src=\"https://colab.research.google.com/assets/colab-badge.svg\" alt=\"Open In Colab\"/></a>"
      ]
    },
    {
      "cell_type": "code",
      "execution_count": null,
      "metadata": {
        "colab": {
          "base_uri": "https://localhost:8080/"
        },
        "id": "hfbCn2a78pcq",
        "outputId": "8dd37a71-0891-4f95-f4c6-31765935cc5f"
      },
      "outputs": [
        {
          "name": "stdout",
          "output_type": "stream",
          "text": [
            "Requirement already satisfied: visualkeras in /Users/auliaazmi/opt/anaconda3/envs/venv1/lib/python3.9/site-packages (0.0.2)\n",
            "Requirement already satisfied: aggdraw>=1.3.11 in /Users/auliaazmi/opt/anaconda3/envs/venv1/lib/python3.9/site-packages (from visualkeras) (1.3.16)\n",
            "Requirement already satisfied: numpy>=1.18.1 in /Users/auliaazmi/opt/anaconda3/envs/venv1/lib/python3.9/site-packages (from visualkeras) (1.22.4)\n",
            "Requirement already satisfied: pillow>=6.2.0 in /Users/auliaazmi/opt/anaconda3/envs/venv1/lib/python3.9/site-packages (from visualkeras) (9.0.1)\n",
            "Note: you may need to restart the kernel to use updated packages.\n"
          ]
        }
      ],
      "source": [
        "pip install visualkeras"
      ]
    },
    {
      "cell_type": "markdown",
      "metadata": {
        "id": "zv9iQV3784qc"
      },
      "source": [
        "0. Import Dependencies"
      ]
    },
    {
      "cell_type": "code",
      "execution_count": null,
      "metadata": {
        "id": "Z5aMazSs80tH"
      },
      "outputs": [],
      "source": [
        "import numpy as np\n",
        "import pandas as pd"
      ]
    },
    {
      "cell_type": "code",
      "execution_count": null,
      "metadata": {
        "id": "KcVuCu1E814_"
      },
      "outputs": [],
      "source": [
        "import os\n",
        "import sys\n",
        "import random\n",
        "\n",
        "import numpy as np\n",
        "import cv2\n",
        "import matplotlib.pyplot as plt\n",
        "\n",
        "import tensorflow as tf\n",
        "from tensorflow import keras"
      ]
    },
    {
      "cell_type": "markdown",
      "metadata": {
        "id": "UQZgod3Y9B8P"
      },
      "source": [
        "0.1 Seeding"
      ]
    },
    {
      "cell_type": "code",
      "execution_count": null,
      "metadata": {
        "id": "fCbjsJcx84CQ"
      },
      "outputs": [],
      "source": [
        "seed = 42\n",
        "random.seed = seed\n",
        "np.random.seed = seed\n",
        "tf.seed = seed"
      ]
    },
    {
      "cell_type": "markdown",
      "metadata": {
        "id": "mNkmo7v39bVd"
      },
      "source": [
        "1. Data Generator"
      ]
    },
    {
      "cell_type": "code",
      "execution_count": null,
      "metadata": {
        "id": "yXqQWJGW9IuX"
      },
      "outputs": [],
      "source": [
        "class DataGen(keras.utils.Sequence):\n",
        "    def __init__(self, image_paths, mask_paths, batch_size=8, image_size=256):\n",
        "        self.image_paths = image_paths\n",
        "        self.mask_paths = mask_paths\n",
        "        self.batch_size = batch_size\n",
        "        self.image_size = image_size\n",
        "        self.on_epoch_end()\n",
        "\n",
        "    def __load__(self, image_path, mask_path):\n",
        "        # Reading Image\n",
        "        image = cv2.imread(image_path, 1)\n",
        "        image = cv2.resize(image, (self.image_size, self.image_size))\n",
        "\n",
        "        mask = np.zeros((self.image_size, self.image_size))\n",
        "\n",
        "        if mask_path:\n",
        "            _mask_image = cv2.imread(mask_path, -1)\n",
        "            _mask_image = cv2.resize(_mask_image, (self.image_size, self.image_size))\n",
        "\n",
        "            if len(_mask_image.shape) == 3:\n",
        "                _mask_image = _mask_image[:, :, 0]  # Convert 3-channel mask to 1-channel\n",
        "\n",
        "            mask = np.maximum(mask, _mask_image)\n",
        "\n",
        "        # Normalizing\n",
        "        image = image / 255.0\n",
        "        mask = mask / 255.0\n",
        "\n",
        "        return image, mask\n",
        "\n",
        "    def __getitem__(self, index):\n",
        "        if (index + 1) * self.batch_size > len(self.image_paths):\n",
        "            self.batch_size = len(self.image_paths) - index * self.batch_size\n",
        "\n",
        "        files_batch = zip(\n",
        "            self.image_paths[index * self.batch_size: (index + 1) * self.batch_size],\n",
        "            self.mask_paths[index * self.batch_size: (index + 1) * self.batch_size]\n",
        "        )\n",
        "\n",
        "        image = []\n",
        "        mask = []\n",
        "\n",
        "        for image_path, mask_path in files_batch:\n",
        "            _img, _mask = self.__load__(image_path, mask_path)\n",
        "            image.append(_img)\n",
        "            mask.append(_mask)\n",
        "\n",
        "        image = np.array(image)\n",
        "        mask = np.array(mask)\n",
        "\n",
        "        return image, mask\n",
        "\n",
        "\n",
        "\n",
        "    def on_epoch_end(self):\n",
        "        pass\n",
        "\n",
        "    def __len__(self):\n",
        "        return int(np.ceil(len(self.image_paths) / float(self.batch_size)))\n"
      ]
    },
    {
      "cell_type": "markdown",
      "metadata": {
        "id": "ILvNS44T9kCw"
      },
      "source": [
        "1.1 Data Path Generator"
      ]
    },
    {
      "cell_type": "markdown",
      "metadata": {
        "id": "9KVtJchzG_2X"
      },
      "source": [
        "1.1.1 Using Dictionary"
      ]
    },
    {
      "cell_type": "code",
      "execution_count": null,
      "metadata": {
        "id": "mssSt7SsFy6B"
      },
      "outputs": [],
      "source": [
        "image_paths = []\n",
        "mask_paths = []"
      ]
    },
    {
      "cell_type": "code",
      "execution_count": null,
      "metadata": {
        "colab": {
          "base_uri": "https://localhost:8080/"
        },
        "id": "rSrPbTBICBYk",
        "outputId": "fa0c4b20-20b9-43ac-8925-3ae24b52093c"
      },
      "outputs": [
        {
          "output_type": "stream",
          "name": "stdout",
          "text": [
            "First 5 Image Paths:\n",
            "\n",
            "First 5 Mask Paths:\n"
          ]
        }
      ],
      "source": [
        "mask_path_dict = {\n",
        "    'kaggle_fire_mask': '/Users/auliaazmi/Downloads/archive/Segmentation_Mask/Fire',\n",
        "    'Fire_Anot_Dataset': '/Users/auliaazmi/Downloads/FireAnnotationDataset'\n",
        "}\n",
        "\n",
        "image_path_dict = {\n",
        "    'kaggle_fire_rgb': '/Users/auliaazmi/Downloads/archive/Image/Fire',\n",
        "    'Fire_Seg_Dataset': '/Users/auliaazmi/Downloads/FireSegmentationDataset'\n",
        "}\n",
        "\n",
        "# Populating image_paths\n",
        "for key, path in image_path_dict.items():\n",
        "    for root, dirs, files in os.walk(path):\n",
        "        for file in files:\n",
        "            if file == '.DS_Store':\n",
        "                continue\n",
        "            # Check if file has a valid image extension\n",
        "            if file.lower().endswith(('.jpg', '.jpeg', '.png')):\n",
        "                image_path = os.path.join(root, file)\n",
        "                image_paths.append(image_path)\n",
        "\n",
        "# Populating mask_paths\n",
        "for key, path in mask_path_dict.items():\n",
        "    for root, dirs, files in os.walk(path):\n",
        "        for file in files:\n",
        "            if file == '.DS_Store':\n",
        "                continue\n",
        "            # Check if file has a valid image extension\n",
        "            if file.lower().endswith(('.jpg', '.jpeg', '.png')):\n",
        "                mask_path = os.path.join(root, file)\n",
        "                mask_paths.append(mask_path)\n",
        "\n",
        "print(\"First 5 Image Paths:\")\n",
        "for image_path in image_paths[:5]:\n",
        "    print(image_path)\n",
        "\n",
        "print(\"\\nFirst 5 Mask Paths:\")\n",
        "for mask_path in mask_paths[:5]:\n",
        "    print(mask_path)"
      ]
    },
    {
      "cell_type": "markdown",
      "metadata": {
        "id": "O_3P6aVtG4wX"
      },
      "source": [
        "1.1.2 Using Variables"
      ]
    },
    {
      "cell_type": "code",
      "execution_count": null,
      "metadata": {
        "id": "JqwiTYXAGZqA"
      },
      "outputs": [],
      "source": [
        "kaggle_fire_rgb = '/Users/auliaazmi/Downloads/archive/Image/Fire'\n",
        "kaggle_fire_mask = '/Users/auliaazmi/Downloads/archive/Segmentation_Mask/Fire'\n",
        "Fire_Seg_Dataset = '/Users/auliaazmi/Downloads/FireSegmentationDataset'\n",
        "Fire_Anot_Dataset = '/Users/auliaazmi/Downloads/FireAnnotationDataset'"
      ]
    },
    {
      "cell_type": "code",
      "execution_count": null,
      "metadata": {
        "colab": {
          "base_uri": "https://localhost:8080/"
        },
        "id": "wsy9mLK7F_J5",
        "outputId": "84fa02f6-6b64-4a7a-b842-cf5a6b12b5e4"
      },
      "outputs": [
        {
          "output_type": "stream",
          "name": "stdout",
          "text": [
            "First 5 Image Paths:\n",
            "\n",
            "First 5 Mask Paths:\n"
          ]
        }
      ],
      "source": [
        "# Populating image_paths\n",
        "for root, dirs, files in os.walk(kaggle_fire_rgb):\n",
        "    for file in files:\n",
        "        if file == '.DS_Store':\n",
        "            continue\n",
        "        # Check if file has a valid image extension\n",
        "        if file.lower().endswith(('.jpg', '.jpeg', '.png')):\n",
        "            image_path = os.path.join(root, file)\n",
        "            image_paths.append(image_path)\n",
        "\n",
        "# Populating mask_paths\n",
        "for root, dirs, files in os.walk(kaggle_fire_mask):\n",
        "    for file in files:\n",
        "        if file == '.DS_Store':\n",
        "            continue\n",
        "        # Check if file has a valid image extension\n",
        "        if file.lower().endswith(('.jpg', '.jpeg', '.png')):\n",
        "            mask_path = os.path.join(root, file)\n",
        "            mask_paths.append(mask_path)\n",
        "\n",
        "# Populating image_paths\n",
        "for root, dirs, files in os.walk(Fire_Seg_Dataset):\n",
        "    for file in files:\n",
        "        if file == '.DS_Store':\n",
        "            continue\n",
        "        # Check if file has a valid image extension\n",
        "        if file.lower().endswith(('.jpg', '.jpeg', '.png')):\n",
        "            image_path = os.path.join(root, file)\n",
        "            image_paths.append(image_path)\n",
        "\n",
        "# Populating mask_paths\n",
        "for root, dirs, files in os.walk(Fire_Anot_Dataset):\n",
        "    for file in files:\n",
        "        if file == '.DS_Store':\n",
        "            continue\n",
        "        # Check if file has a valid image extension\n",
        "        if file.lower().endswith(('.jpg', '.jpeg', '.png')):\n",
        "            mask_path = os.path.join(root, file)\n",
        "            mask_paths.append(mask_path)\n",
        "\n",
        "print(\"First 5 Image Paths:\")\n",
        "for image_path in image_paths[:5]:\n",
        "    print(image_path)\n",
        "\n",
        "print(\"\\nFirst 5 Mask Paths:\")\n",
        "for mask_path in mask_paths[:5]:\n",
        "    print(mask_path)"
      ]
    },
    {
      "cell_type": "markdown",
      "metadata": {
        "id": "NxcEYdlvbuza"
      },
      "source": [
        "1.1.3 Sorting Paths"
      ]
    },
    {
      "cell_type": "code",
      "execution_count": null,
      "metadata": {
        "id": "7vp_LwebGuPK"
      },
      "outputs": [],
      "source": [
        "image_paths.sort()\n",
        "mask_paths.sort()"
      ]
    },
    {
      "cell_type": "markdown",
      "metadata": {
        "id": "qUVQvtnZ9qq_"
      },
      "source": [
        "1.2 Data Gen Creation"
      ]
    },
    {
      "cell_type": "code",
      "execution_count": null,
      "metadata": {
        "id": "R7T0MUtObuzb"
      },
      "outputs": [],
      "source": [
        "image_size = 64\n",
        "epochs = 1\n",
        "batch_size = 10\n",
        "val_data_size = 100"
      ]
    },
    {
      "cell_type": "code",
      "execution_count": null,
      "metadata": {
        "id": "ozrC4i44buzb",
        "outputId": "33154859-6f8b-48ae-b86f-8f9abbae2133"
      },
      "outputs": [
        {
          "name": "stdout",
          "output_type": "stream",
          "text": [
            "Training Image Paths:\n",
            "/Users/auliaazmi/Downloads/archive/Image/Fire/Img_27879.jpg\n",
            "/Users/auliaazmi/Downloads/archive/Image/Fire/Img_7050.jpg\n",
            "/Users/auliaazmi/Downloads/archive/Image/Fire/Img_23261.jpg\n",
            "/Users/auliaazmi/Downloads/archive/Image/Fire/Img_8562.jpg\n",
            "/Users/auliaazmi/Downloads/archive/Image/Fire/Img_18184.jpg\n",
            "\n",
            "Validation Image Paths:\n",
            "/Users/auliaazmi/Downloads/archive/Image/Fire/Img_25239.jpg\n",
            "/Users/auliaazmi/Downloads/archive/Image/Fire/Img_16433.jpg\n",
            "/Users/auliaazmi/Downloads/archive/Image/Fire/Img_22497.jpg\n",
            "/Users/auliaazmi/Downloads/archive/Image/Fire/Img_8308.jpg\n",
            "/Users/auliaazmi/Downloads/archive/Image/Fire/Img_22159.jpg\n",
            "\n",
            "Training Mask Paths:\n",
            "/Users/auliaazmi/Downloads/archive/Segmentation_Mask/Fire/Img_27879.jpg\n",
            "/Users/auliaazmi/Downloads/archive/Segmentation_Mask/Fire/Img_7050.jpg\n",
            "/Users/auliaazmi/Downloads/archive/Segmentation_Mask/Fire/Img_23261.jpg\n",
            "/Users/auliaazmi/Downloads/archive/Segmentation_Mask/Fire/Img_8562.jpg\n",
            "/Users/auliaazmi/Downloads/archive/Segmentation_Mask/Fire/Img_18184.jpg\n",
            "\n",
            "Validation Mask Paths:\n",
            "/Users/auliaazmi/Downloads/archive/Segmentation_Mask/Fire/Img_25239.jpg\n",
            "/Users/auliaazmi/Downloads/archive/Segmentation_Mask/Fire/Img_16433.jpg\n",
            "/Users/auliaazmi/Downloads/archive/Segmentation_Mask/Fire/Img_22497.jpg\n",
            "/Users/auliaazmi/Downloads/archive/Segmentation_Mask/Fire/Img_8308.jpg\n",
            "/Users/auliaazmi/Downloads/archive/Segmentation_Mask/Fire/Img_22159.jpg\n"
          ]
        }
      ],
      "source": [
        "from sklearn.model_selection import train_test_split\n",
        "\n",
        "# Splitting image paths\n",
        "image_paths_train, image_paths_val = train_test_split(image_paths, test_size=0.2, random_state=42)\n",
        "\n",
        "# Splitting mask paths\n",
        "mask_paths_train, mask_paths_val = train_test_split(mask_paths, test_size=0.2, random_state=42)\n",
        "\n",
        "# Printing the results\n",
        "print(\"Training Image Paths:\")\n",
        "for image_path in image_paths_train[:5]:\n",
        "    print(image_path)\n",
        "\n",
        "print(\"\\nValidation Image Paths:\")\n",
        "for image_path in image_paths_val[:5]:\n",
        "    print(image_path)\n",
        "\n",
        "print(\"\\nTraining Mask Paths:\")\n",
        "for mask_path in mask_paths_train[:5]:\n",
        "    print(mask_path)\n",
        "\n",
        "print(\"\\nValidation Mask Paths:\")\n",
        "for mask_path in mask_paths_val[:5]:\n",
        "    print(mask_path)"
      ]
    },
    {
      "cell_type": "code",
      "execution_count": null,
      "metadata": {
        "id": "fSIEervabuzb"
      },
      "outputs": [],
      "source": [
        "train_steps = len(image_paths_train)//batch_size\n",
        "valid_steps = len(image_paths_val)//batch_size"
      ]
    },
    {
      "cell_type": "code",
      "execution_count": null,
      "metadata": {
        "id": "fsIMQz3zbuzb"
      },
      "outputs": [],
      "source": [
        "train_gen = DataGen(image_paths_train, mask_paths_train, image_size=image_size, batch_size=batch_size)\n",
        "valid_gen = DataGen(image_paths_val, mask_paths_val, image_size=image_size, batch_size=batch_size)"
      ]
    },
    {
      "cell_type": "code",
      "execution_count": null,
      "metadata": {
        "id": "pGffITnRbuzb",
        "outputId": "7d039581-e621-4479-c9b1-702c38aed1b8"
      },
      "outputs": [
        {
          "name": "stdout",
          "output_type": "stream",
          "text": [
            "(10, 64, 64, 3) (10, 64, 64)\n"
          ]
        },
        {
          "data": {
            "image/png": "[encoded data removed]",
            "text/plain": [
              "<Figure size 432x288 with 2 Axes>"
            ]
          },
          "metadata": {
            "needs_background": "light"
          },
          "output_type": "display_data"
        }
      ],
      "source": [
        "gen = DataGen(image_paths_train, mask_paths_train, batch_size=batch_size, image_size=image_size)\n",
        "x, y = gen.__getitem__(0)\n",
        "print(x.shape, y.shape)\n",
        "\n",
        "r = random.randint(0, len(x)-1)\n",
        "\n",
        "fig, ax = plt.subplots(1, 2)\n",
        "fig.subplots_adjust(hspace=0.4, wspace=0.4)\n",
        "\n",
        "ax[0].imshow(x[r])\n",
        "ax[0].set_title(\"Input Image\")\n",
        "\n",
        "ax[1].imshow(np.reshape(y[r], (image_size, image_size)), cmap=\"gray\")\n",
        "ax[1].set_title(\"Mask Image\")\n",
        "\n",
        "plt.show()\n"
      ]
    },
    {
      "cell_type": "markdown",
      "metadata": {
        "id": "Gx38KN3ibuzc"
      },
      "source": [
        "2.1 Model UNet"
      ]
    },
    {
      "cell_type": "code",
      "execution_count": null,
      "metadata": {
        "id": "ttqd149sbuzc"
      },
      "outputs": [],
      "source": [
        "def down_block(x, filters, kernel_size=(3, 3), padding=\"same\", strides=1):\n",
        "    c = keras.layers.Conv2D(filters, kernel_size, padding=padding, strides=strides, activation=\"relu\")(x)\n",
        "    c = keras.layers.Conv2D(filters, kernel_size, padding=padding, strides=strides, activation=\"relu\")(c)\n",
        "    p = keras.layers.MaxPool2D((2, 2), (2, 2))(c)\n",
        "    return c, p\n",
        "\n",
        "def up_block(x, skip, filters, kernel_size=(3, 3), padding=\"same\", strides=1):\n",
        "    us = keras.layers.UpSampling2D((2, 2))(x)\n",
        "    concat = keras.layers.Concatenate()([us, skip])\n",
        "    c = keras.layers.Conv2D(filters, kernel_size, padding=padding, strides=strides, activation=\"relu\")(concat)\n",
        "    c = keras.layers.Conv2D(filters, kernel_size, padding=padding, strides=strides, activation=\"relu\")(c)\n",
        "    return c\n",
        "\n",
        "def bottleneck(x, filters, kernel_size=(3, 3), padding=\"same\", strides=1):\n",
        "    c = keras.layers.Conv2D(filters, kernel_size, padding=padding, strides=strides, activation=\"relu\")(x)\n",
        "    c = keras.layers.Conv2D(filters, kernel_size, padding=padding, strides=strides, activation=\"relu\")(c)\n",
        "    return c"
      ]
    },
    {
      "cell_type": "code",
      "execution_count": null,
      "metadata": {
        "id": "SR-I9qaKbuzc"
      },
      "outputs": [],
      "source": [
        "def UNet():\n",
        "    f = [16, 32, 64, 128, 256]\n",
        "    inputs = keras.layers.Input((image_size, image_size, 3))\n",
        "\n",
        "    p0 = inputs\n",
        "    c1, p1 = down_block(p0, f[0])  # 128 --> 64\n",
        "    c2, p2 = down_block(p1, f[1])  # 64  --> 32\n",
        "    c3, p3 = down_block(p2, f[2])  # 32  --> 16\n",
        "    c4, p4 = down_block(p3, f[3])  # 16  --> 8\n",
        "\n",
        "    bn = bottleneck(p4, f[4])\n",
        "\n",
        "    u1 = up_block(bn, c4, f[3])  # 8  --> 16\n",
        "    u2 = up_block(u1, c3, f[2])  # 16 --> 32\n",
        "    u3 = up_block(u2, c2, f[1])  # 32 --> 64\n",
        "    u4 = up_block(u3, c1, f[0])  # 64 --> 128\n",
        "\n",
        "    outputs = keras.layers.Conv2D(1, (1, 1), padding=\"same\", activation=\"sigmoid\")(u4)\n",
        "    model = keras.models.Model(inputs, outputs)\n",
        "    return model\n"
      ]
    },
    {
      "cell_type": "code",
      "execution_count": null,
      "metadata": {
        "id": "cqNk56ePbuzc",
        "outputId": "7bf33b7f-5752-4cba-a8cf-599903deec00"
      },
      "outputs": [
        {
          "name": "stdout",
          "output_type": "stream",
          "text": [
            "Model: \"model_3\"\n",
            "__________________________________________________________________________________________________\n",
            " Layer (type)                   Output Shape         Param #     Connected to                     \n",
            "==================================================================================================\n",
            " input_4 (InputLayer)           [(None, 64, 64, 3)]  0           []                               \n",
            "                                                                                                  \n",
            " conv2d_57 (Conv2D)             (None, 64, 64, 16)   448         ['input_4[0][0]']                \n",
            "                                                                                                  \n",
            " conv2d_58 (Conv2D)             (None, 64, 64, 16)   2320        ['conv2d_57[0][0]']              \n",
            "                                                                                                  \n",
            " max_pooling2d_12 (MaxPooling2D  (None, 32, 32, 16)  0           ['conv2d_58[0][0]']              \n",
            " )                                                                                                \n",
            "                                                                                                  \n",
            " conv2d_59 (Conv2D)             (None, 32, 32, 32)   4640        ['max_pooling2d_12[0][0]']       \n",
            "                                                                                                  \n",
            " conv2d_60 (Conv2D)             (None, 32, 32, 32)   9248        ['conv2d_59[0][0]']              \n",
            "                                                                                                  \n",
            " max_pooling2d_13 (MaxPooling2D  (None, 16, 16, 32)  0           ['conv2d_60[0][0]']              \n",
            " )                                                                                                \n",
            "                                                                                                  \n",
            " conv2d_61 (Conv2D)             (None, 16, 16, 64)   18496       ['max_pooling2d_13[0][0]']       \n",
            "                                                                                                  \n",
            " conv2d_62 (Conv2D)             (None, 16, 16, 64)   36928       ['conv2d_61[0][0]']              \n",
            "                                                                                                  \n",
            " max_pooling2d_14 (MaxPooling2D  (None, 8, 8, 64)    0           ['conv2d_62[0][0]']              \n",
            " )                                                                                                \n",
            "                                                                                                  \n",
            " conv2d_63 (Conv2D)             (None, 8, 8, 128)    73856       ['max_pooling2d_14[0][0]']       \n",
            "                                                                                                  \n",
            " conv2d_64 (Conv2D)             (None, 8, 8, 128)    147584      ['conv2d_63[0][0]']              \n",
            "                                                                                                  \n",
            " max_pooling2d_15 (MaxPooling2D  (None, 4, 4, 128)   0           ['conv2d_64[0][0]']              \n",
            " )                                                                                                \n",
            "                                                                                                  \n",
            " conv2d_65 (Conv2D)             (None, 4, 4, 256)    295168      ['max_pooling2d_15[0][0]']       \n",
            "                                                                                                  \n",
            " conv2d_66 (Conv2D)             (None, 4, 4, 256)    590080      ['conv2d_65[0][0]']              \n",
            "                                                                                                  \n",
            " up_sampling2d_12 (UpSampling2D  (None, 8, 8, 256)   0           ['conv2d_66[0][0]']              \n",
            " )                                                                                                \n",
            "                                                                                                  \n",
            " concatenate_12 (Concatenate)   (None, 8, 8, 384)    0           ['up_sampling2d_12[0][0]',       \n",
            "                                                                  'conv2d_64[0][0]']              \n",
            "                                                                                                  \n",
            " conv2d_67 (Conv2D)             (None, 8, 8, 128)    442496      ['concatenate_12[0][0]']         \n",
            "                                                                                                  \n",
            " conv2d_68 (Conv2D)             (None, 8, 8, 128)    147584      ['conv2d_67[0][0]']              \n",
            "                                                                                                  \n",
            " up_sampling2d_13 (UpSampling2D  (None, 16, 16, 128)  0          ['conv2d_68[0][0]']              \n",
            " )                                                                                                \n",
            "                                                                                                  \n",
            " concatenate_13 (Concatenate)   (None, 16, 16, 192)  0           ['up_sampling2d_13[0][0]',       \n",
            "                                                                  'conv2d_62[0][0]']              \n",
            "                                                                                                  \n",
            " conv2d_69 (Conv2D)             (None, 16, 16, 64)   110656      ['concatenate_13[0][0]']         \n",
            "                                                                                                  \n",
            " conv2d_70 (Conv2D)             (None, 16, 16, 64)   36928       ['conv2d_69[0][0]']              \n",
            "                                                                                                  \n",
            " up_sampling2d_14 (UpSampling2D  (None, 32, 32, 64)  0           ['conv2d_70[0][0]']              \n",
            " )                                                                                                \n",
            "                                                                                                  \n",
            " concatenate_14 (Concatenate)   (None, 32, 32, 96)   0           ['up_sampling2d_14[0][0]',       \n",
            "                                                                  'conv2d_60[0][0]']              \n",
            "                                                                                                  \n",
            " conv2d_71 (Conv2D)             (None, 32, 32, 32)   27680       ['concatenate_14[0][0]']         \n",
            "                                                                                                  \n",
            " conv2d_72 (Conv2D)             (None, 32, 32, 32)   9248        ['conv2d_71[0][0]']              \n",
            "                                                                                                  \n",
            " up_sampling2d_15 (UpSampling2D  (None, 64, 64, 32)  0           ['conv2d_72[0][0]']              \n",
            " )                                                                                                \n",
            "                                                                                                  \n",
            " concatenate_15 (Concatenate)   (None, 64, 64, 48)   0           ['up_sampling2d_15[0][0]',       \n",
            "                                                                  'conv2d_58[0][0]']              \n",
            "                                                                                                  \n",
            " conv2d_73 (Conv2D)             (None, 64, 64, 16)   6928        ['concatenate_15[0][0]']         \n",
            "                                                                                                  \n",
            " conv2d_74 (Conv2D)             (None, 64, 64, 16)   2320        ['conv2d_73[0][0]']              \n",
            "                                                                                                  \n",
            " conv2d_75 (Conv2D)             (None, 64, 64, 1)    17          ['conv2d_74[0][0]']              \n",
            "                                                                                                  \n",
            "==================================================================================================\n",
            "Total params: 1,962,625\n",
            "Trainable params: 1,962,625\n",
            "Non-trainable params: 0\n",
            "__________________________________________________________________________________________________\n"
          ]
        }
      ],
      "source": [
        "model = UNet()\n",
        "model.compile(optimizer=\"adam\", loss=\"binary_crossentropy\", metrics=[\"acc\"])\n",
        "model.summary()"
      ]
    },
    {
      "cell_type": "code",
      "execution_count": null,
      "metadata": {
        "id": "8INI8HFWbuzc",
        "outputId": "279636d2-e9ef-4cdb-81ea-6d6cab459cfa"
      },
      "outputs": [
        {
          "data": {
            "image/png": "[encoded data removed]",
            "text/plain": [
              "<PIL.Image.Image image mode=RGBA size=1091x378 at 0x7F8BAA57B4F0>"
            ]
          },
          "execution_count": 76,
          "metadata": {},
          "output_type": "execute_result"
        }
      ],
      "source": [
        "import visualkeras\n",
        "visualkeras.layered_view(model, legend=True)"
      ]
    },
    {
      "cell_type": "code",
      "execution_count": null,
      "metadata": {
        "id": "eA_G4Mk4buzc",
        "outputId": "50c305af-8ef1-4151-d88f-c0a1d1d56308"
      },
      "outputs": [
        {
          "data": {
            "text/plain": [
              "48230"
            ]
          },
          "execution_count": 77,
          "metadata": {},
          "output_type": "execute_result"
        }
      ],
      "source": [
        "len(image_paths_train)"
      ]
    },
    {
      "cell_type": "code",
      "execution_count": null,
      "metadata": {
        "id": "iP9G64bwbuzc",
        "outputId": "339d9270-2d9a-4bdb-b5ab-60caf06aba9b"
      },
      "outputs": [
        {
          "data": {
            "text/plain": [
              "48230"
            ]
          },
          "execution_count": 78,
          "metadata": {},
          "output_type": "execute_result"
        }
      ],
      "source": [
        "len(mask_paths_train)"
      ]
    },
    {
      "cell_type": "code",
      "execution_count": null,
      "metadata": {
        "id": "qoINdD71buzd",
        "outputId": "9a3c3a0e-1e7a-465e-a462-207c1c62b3a9"
      },
      "outputs": [
        {
          "name": "stdout",
          "output_type": "stream",
          "text": [
            "4823/4823 [==============================] - 990s 205ms/step - loss: 0.0346 - acc: 0.9703 - val_loss: 0.0248 - val_acc: 0.9721\n"
          ]
        },
        {
          "data": {
            "text/plain": [
              "<keras.callbacks.History at 0x7f8bda1a5f10>"
            ]
          },
          "execution_count": 79,
          "metadata": {},
          "output_type": "execute_result"
        }
      ],
      "source": [
        "model.fit(train_gen, validation_data=valid_gen, steps_per_epoch=train_steps,\n",
        "          validation_steps=valid_steps, epochs=epochs)"
      ]
    },
    {
      "cell_type": "code",
      "execution_count": null,
      "metadata": {
        "id": "GerCRhso-FMN"
      },
      "outputs": [],
      "source": [
        "from tensorflow.keras.models import Model"
      ]
    },
    {
      "cell_type": "code",
      "execution_count": null,
      "metadata": {
        "id": "_xR6edXPbuzd"
      },
      "outputs": [],
      "source": [
        "model.save_weights(\"UNetWAv2.h5\")"
      ]
    },
    {
      "cell_type": "code",
      "execution_count": null,
      "metadata": {
        "id": "KqjBon1_buzd"
      },
      "outputs": [],
      "source": [
        "model.save('UNetAv2.h5')"
      ]
    },
    {
      "cell_type": "code",
      "execution_count": null,
      "metadata": {
        "id": "MKptJ3HLbuze"
      },
      "outputs": [],
      "source": []
    }
  ],
  "metadata": {
    "colab": {
      "provenance": [],
      "include_colab_link": true
    },
    "kernelspec": {
      "display_name": "Python 3",
      "name": "python3"
    },
    "language_info": {
      "codemirror_mode": {
        "name": "ipython",
        "version": 3
      },
      "file_extension": ".py",
      "mimetype": "text/x-python",
      "name": "python",
      "nbconvert_exporter": "python",
      "pygments_lexer": "ipython3",
      "version": "3.9.12"
    }
  },
  "nbformat": 4,
  "nbformat_minor": 0
}